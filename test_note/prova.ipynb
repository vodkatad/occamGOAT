{
 "cells": [
  {
   "cell_type": "code",
   "execution_count": null,
   "id": "6fa8eae8-8255-4897-9fdc-27b375e9fb57",
   "metadata": {},
   "outputs": [],
   "source": [
    "print('ciao')"
   ]
  },
  {
   "cell_type": "raw",
   "id": "b4a5b4e2-0ec5-4107-81cc-97976db0b9f2",
   "metadata": {},
   "source": [
    "print('ciao2')\n"
   ]
  },
  {
   "cell_type": "code",
   "execution_count": null,
   "id": "53215e48-6f97-45a9-97a2-38ab5d8296fb",
   "metadata": {},
   "outputs": [],
   "source": [
    "print('ciao3')\n",
    "import pandas as pd\n",
    "d = pd.DataFrame(data={'a':[1,2,3]})\n",
    "print(d.head)\n",
    "d.to_csv(snakemake.output[0])"
   ]
  },
  {
   "cell_type": "code",
   "execution_count": null,
   "id": "de45cb4d-abd5-4ba3-93bf-96a02e91da71",
   "metadata": {},
   "outputs": [],
   "source": []
  }
 ],
 "metadata": {
  "kernelspec": {
   "display_name": "Python 3 (ipykernel)",
   "language": "python",
   "name": "python3"
  },
  "language_info": {
   "codemirror_mode": {
    "name": "ipython",
    "version": 3
   },
   "file_extension": ".py",
   "mimetype": "text/x-python",
   "name": "python",
   "nbconvert_exporter": "python",
   "pygments_lexer": "ipython3",
   "version": "3.12.11"
  }
 },
 "nbformat": 4,
 "nbformat_minor": 5
}
